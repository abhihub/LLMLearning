{
 "cells": [
  {
   "cell_type": "code",
   "execution_count": null,
   "id": "97fc9d8d",
   "metadata": {},
   "outputs": [],
   "source": [
    "# Core LLM setup libraries\n",
    "import torch           # core deep learning tensor lib\n",
    "import transformers    # HuggingFace model hub + tokenizer APIs\n",
    "import datasets        # HuggingFace datasets for training/eval\n",
    "import sentencepiece   # tokenizer backend (some models need it)\n",
    "import numpy as np     # numerical ops\n",
    "import matplotlib.pyplot as plt  # visualization\n",
    "\n",
    "print(\"Basic LLM setup imports complete.\") "
   ]
  }
 ],
 "metadata": {
  "kernelspec": {
   "display_name": "Python 3 (ipykernel)",
   "language": "python",
   "name": "python3"
  },
  "language_info": {
   "codemirror_mode": {
    "name": "ipython",
    "version": 3
   },
   "file_extension": ".py",
   "mimetype": "text/x-python",
   "name": "python",
   "nbconvert_exporter": "python",
   "pygments_lexer": "ipython3",
   "version": "3.12.1"
  }
 },
 "nbformat": 4,
 "nbformat_minor": 5
}
