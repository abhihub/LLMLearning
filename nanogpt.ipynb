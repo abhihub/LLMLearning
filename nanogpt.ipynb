{
 "cells": [
  {
   "cell_type": "code",
   "execution_count": 2,
   "id": "f384d1f1",
   "metadata": {},
   "outputs": [
    {
     "name": "stdout",
     "output_type": "stream",
     "text": [
      "--2025-07-24 14:27:27--  https://raw.githubusercontent.com/karpathy/char-rnn/master/data/tinyshakespeare/input.txt\n",
      "Resolving raw.githubusercontent.com (raw.githubusercontent.com)... 185.199.109.133, 185.199.111.133, 185.199.108.133, ...\n",
      "Connecting to raw.githubusercontent.com (raw.githubusercontent.com)|185.199.109.133|:443... connected.\n",
      "HTTP request sent, awaiting response... 200 OK\n",
      "Length: 1115394 (1.1M) [text/plain]\n",
      "Saving to: ‘input.txt.7’\n",
      "\n",
      "input.txt.7         100%[===================>]   1.06M  --.-KB/s    in 0.1s    \n",
      "\n",
      "2025-07-24 14:27:28 (11.0 MB/s) - ‘input.txt.7’ saved [1115394/1115394]\n",
      "\n",
      "2.7.1\n",
      "True\n"
     ]
    }
   ],
   "source": [
    "import torch\n",
    "!wget https://raw.githubusercontent.com/karpathy/char-rnn/master/data/tinyshakespeare/input.txt\n",
    "print(torch.__version__)\n",
    "print(torch.backends.mps.is_available())"
   ]
  },
  {
   "cell_type": "code",
   "execution_count": 3,
   "id": "b849da37",
   "metadata": {},
   "outputs": [],
   "source": [
    "with open('input.txt', 'r', encoding='utf-8') as f:\n",
    "    text = f.read()"
   ]
  },
  {
   "cell_type": "code",
   "execution_count": 4,
   "id": "0d5f1828",
   "metadata": {},
   "outputs": [
    {
     "name": "stdout",
     "output_type": "stream",
     "text": [
      "length of dataset in chars: 1115394\n"
     ]
    }
   ],
   "source": [
    "print(\"length of dataset in chars:\", len(text))"
   ]
  },
  {
   "cell_type": "code",
   "execution_count": 5,
   "id": "37c1a254",
   "metadata": {},
   "outputs": [
    {
     "name": "stdout",
     "output_type": "stream",
     "text": [
      "First Citizen:\n",
      "Before we proceed any further, hear me speak.\n",
      "\n",
      "All:\n",
      "Speak, speak.\n",
      "\n",
      "First Citizen:\n",
      "You are all resolved rather to die than to famish?\n",
      "\n",
      "All:\n",
      "Resolved. resolved.\n",
      "\n",
      "First Citizen:\n",
      "First, you\n"
     ]
    }
   ],
   "source": [
    "print(text[:200])"
   ]
  },
  {
   "cell_type": "code",
   "execution_count": 13,
   "id": "7f9e8b96",
   "metadata": {},
   "outputs": [
    {
     "name": "stdout",
     "output_type": "stream",
     "text": [
      "\n",
      " !$&',-.3:;?ABCDEFGHIJKLMNOPQRSTUVWXYZabcdefghijklmnopqrstuvwxyz\n",
      "65\n"
     ]
    }
   ],
   "source": [
    "char_types = sorted(list(set(text)))\n",
    "vocab_size = len(char_types)\n",
    "print(''.join(char_types))\n",
    "print(vocab_size)"
   ]
  },
  {
   "cell_type": "code",
   "execution_count": 14,
   "id": "87e00925",
   "metadata": {},
   "outputs": [
    {
     "name": "stdout",
     "output_type": "stream",
     "text": [
      "[20, 43, 50, 50, 53, 57]\n",
      "['H', 'e', 'l', 'l', 'o', 's']\n"
     ]
    }
   ],
   "source": [
    "#### BEGIN TOKENIZATION ####\n",
    "\n",
    "#create a mapping from chars to ints\n",
    "s_to_i = {ch:i for i,ch in enumerate(char_types)}\n",
    "i_to_s = {i:ch for i,ch in enumerate(char_types)}\n",
    "\n",
    "encode = lambda s: [s_to_i[c] for c in s] #func converts string input (s) to ints (i)\n",
    "decode = lambda l: [i_to_s[i] for i in l] #func reverse converts ints (i) input to a char list (s)\n",
    "\n",
    "test_e_d = encode(\"Hellos\")\n",
    "print(test_e_d)\n",
    "print(decode(test_e_d))\n"
   ]
  },
  {
   "cell_type": "code",
   "execution_count": 17,
   "id": "04a861c7",
   "metadata": {},
   "outputs": [
    {
     "name": "stdout",
     "output_type": "stream",
     "text": [
      "torch.Size([1115394]) torch.int64\n",
      "tensor([18, 47, 56, 57, 58,  1, 15, 47, 58, 47, 64, 43, 52, 10,  0, 14, 43, 44,\n",
      "        53, 56, 43,  1, 61, 43,  1, 54, 56, 53, 41, 43, 43, 42,  1, 39, 52, 63,\n",
      "         1, 44, 59, 56, 58, 46, 43, 56,  6,  1, 46, 43, 39, 56,  1, 51, 43,  1,\n",
      "        57, 54, 43, 39, 49,  8,  0,  0, 13, 50, 50, 10,  0, 31, 54, 43, 39, 49,\n",
      "         6,  1, 57, 54, 43, 39, 49,  8,  0,  0, 18, 47, 56, 57, 58,  1, 15, 47,\n",
      "        58, 47, 64, 43, 52, 10,  0, 37, 53, 59,  1, 39, 56, 43,  1, 39, 50, 50,\n",
      "         1, 56, 43, 57, 53, 50, 60, 43, 42,  1, 56, 39, 58, 46, 43, 56,  1, 58,\n",
      "        53,  1, 42, 47, 43,  1, 58, 46, 39, 52,  1, 58, 53,  1, 44, 39, 51, 47,\n",
      "        57, 46, 12,  0,  0, 13, 50, 50, 10,  0, 30, 43, 57, 53, 50, 60, 43, 42,\n",
      "         8,  1, 56, 43, 57, 53, 50, 60, 43, 42,  8,  0,  0, 18, 47, 56, 57, 58,\n",
      "         1, 15, 47, 58, 47, 64, 43, 52, 10,  0, 18, 47, 56, 57, 58,  6,  1, 63,\n",
      "        53, 59,  1, 49, 52, 53, 61,  1, 15, 39, 47, 59, 57,  1, 25, 39, 56, 41,\n",
      "        47, 59, 57,  1, 47, 57,  1, 41, 46, 47, 43, 44,  1, 43, 52, 43, 51, 63,\n",
      "         1, 58, 53,  1, 58, 46, 43,  1, 54, 43, 53, 54, 50, 43,  8,  0,  0, 13,\n",
      "        50, 50, 10,  0, 35, 43,  1, 49, 52, 53, 61,  5, 58,  6,  1, 61, 43,  1,\n",
      "        49, 52, 53, 61,  5, 58,  8,  0,  0, 18, 47, 56, 57, 58,  1, 15, 47, 58,\n",
      "        47, 64, 43, 52, 10,  0, 24, 43, 58,  1, 59, 57,  1, 49, 47, 50, 50,  1,\n",
      "        46, 47, 51,  6,  1, 39, 52, 42,  1, 61, 43,  5, 50, 50,  1, 46, 39, 60,\n",
      "        43,  1, 41, 53, 56, 52,  1, 39, 58,  1, 53, 59, 56,  1, 53, 61, 52,  1,\n",
      "        54, 56, 47, 41, 43,  8,  0, 21, 57,  5, 58,  1, 39,  1, 60, 43, 56, 42,\n",
      "        47, 41, 58, 12,  0,  0, 13, 50, 50, 10,  0, 26, 53,  1, 51, 53, 56, 43,\n",
      "         1, 58, 39, 50, 49, 47, 52, 45,  1, 53, 52,  5, 58, 11,  1, 50, 43, 58,\n",
      "         1, 47, 58,  1, 40, 43,  1, 42, 53, 52, 43, 10,  1, 39, 61, 39, 63,  6,\n",
      "         1, 39, 61, 39, 63,  2,  0,  0, 31, 43, 41, 53, 52, 42,  1, 15, 47, 58,\n",
      "        47, 64, 43, 52, 10,  0, 27, 52, 43,  1, 61, 53, 56, 42,  6,  1, 45, 53,\n",
      "        53, 42,  1, 41, 47, 58, 47, 64, 43, 52, 57,  8,  0,  0, 18, 47, 56, 57,\n",
      "        58,  1, 15, 47, 58, 47, 64, 43, 52, 10,  0, 35, 43,  1, 39, 56, 43,  1,\n",
      "        39, 41, 41, 53, 59, 52, 58, 43, 42,  1, 54, 53, 53, 56,  1, 41, 47, 58,\n",
      "        47, 64, 43, 52, 57,  6,  1, 58, 46, 43,  1, 54, 39, 58, 56, 47, 41, 47,\n",
      "        39, 52, 57,  1, 45, 53, 53, 42,  8,  0, 35, 46, 39, 58,  1, 39, 59, 58,\n",
      "        46, 53, 56, 47, 58, 63,  1, 57, 59, 56, 44, 43, 47, 58, 57,  1, 53, 52,\n",
      "         1, 61, 53, 59, 50, 42,  1, 56, 43, 50, 47, 43, 60, 43,  1, 59, 57, 10,\n",
      "         1, 47, 44,  1, 58, 46, 43, 63,  0, 61, 53, 59, 50, 42,  1, 63, 47, 43,\n",
      "        50, 42,  1, 59, 57,  1, 40, 59, 58,  1, 58, 46, 43,  1, 57, 59, 54, 43,\n",
      "        56, 44, 50, 59, 47, 58, 63,  6,  1, 61, 46, 47, 50, 43,  1, 47, 58,  1,\n",
      "        61, 43, 56, 43,  0, 61, 46, 53, 50, 43, 57, 53, 51, 43,  6,  1, 61, 43,\n",
      "         1, 51, 47, 45, 46, 58,  1, 45, 59, 43, 57, 57,  1, 58, 46, 43, 63,  1,\n",
      "        56, 43, 50, 47, 43, 60, 43, 42,  1, 59, 57,  1, 46, 59, 51, 39, 52, 43,\n",
      "        50, 63, 11,  0, 40, 59, 58,  1, 58, 46, 43, 63,  1, 58, 46, 47, 52, 49,\n",
      "         1, 61, 43,  1, 39, 56, 43,  1, 58, 53, 53,  1, 42, 43, 39, 56, 10,  1,\n",
      "        58, 46, 43,  1, 50, 43, 39, 52, 52, 43, 57, 57,  1, 58, 46, 39, 58,  0,\n",
      "        39, 44, 44, 50, 47, 41, 58, 57,  1, 59, 57,  6,  1, 58, 46, 43,  1, 53,\n",
      "        40, 48, 43, 41, 58,  1, 53, 44,  1, 53, 59, 56,  1, 51, 47, 57, 43, 56,\n",
      "        63,  6,  1, 47, 57,  1, 39, 57,  1, 39, 52,  0, 47, 52, 60, 43, 52, 58,\n",
      "        53, 56, 63,  1, 58, 53,  1, 54, 39, 56, 58, 47, 41, 59, 50, 39, 56, 47,\n",
      "        57, 43,  1, 58, 46, 43, 47, 56,  1, 39, 40, 59, 52, 42, 39, 52, 41, 43,\n",
      "        11,  1, 53, 59, 56,  0, 57, 59, 44, 44, 43, 56, 39, 52, 41, 43,  1, 47,\n",
      "        57,  1, 39,  1, 45, 39, 47, 52,  1, 58, 53,  1, 58, 46, 43, 51,  1, 24,\n",
      "        43, 58,  1, 59, 57,  1, 56, 43, 60, 43, 52, 45, 43,  1, 58, 46, 47, 57,\n",
      "         1, 61, 47, 58, 46,  0, 53, 59, 56,  1, 54, 47, 49, 43, 57,  6,  1, 43,\n",
      "        56, 43,  1, 61, 43,  1, 40, 43, 41, 53, 51, 43,  1, 56, 39, 49, 43, 57,\n",
      "        10,  1, 44, 53, 56,  1, 58, 46, 43,  1, 45, 53, 42, 57,  1, 49, 52, 53,\n",
      "        61,  1, 21,  0, 57, 54, 43, 39, 49,  1, 58, 46, 47, 57,  1, 47, 52,  1,\n",
      "        46, 59, 52, 45, 43, 56,  1, 44, 53, 56,  1, 40, 56, 43, 39, 42,  6,  1,\n",
      "        52, 53, 58,  1, 47, 52,  1, 58, 46, 47, 56, 57, 58,  1, 44, 53, 56,  1,\n",
      "        56, 43, 60, 43, 52, 45, 43,  8,  0,  0])\n"
     ]
    }
   ],
   "source": [
    "#convert entire dataset to encoding and then save to torch tensor\n",
    "encoded_text = encode(text)\n",
    "\n",
    "data_torch = torch.tensor(encoded_text, dtype = torch.long)\n",
    "\n",
    "print(data_torch.shape, data_torch.dtype) \n",
    "print(data_torch[:1000])"
   ]
  },
  {
   "cell_type": "code",
   "execution_count": 22,
   "id": "acbd42d5-da16-419b-a5e4-7a9d5221e3b6",
   "metadata": {},
   "outputs": [
    {
     "name": "stdout",
     "output_type": "stream",
     "text": [
      "[' ', 'c', 'i', 't', 'i', 'z', 'e', 'n', 's', ',', ' ', 't', 'h', 'e', ' ', 'p', 'a', 't', 'r', 'i', 'c', 'i', 'a', 'n', 's', ' ', 'g', 'o', 'o', 'd', '.', '\\n', 'W', 'h', 'a', 't', ' ', 'a', 'u', 't', 'h', 'o', 'r', 'i', 't', 'y', ' ', 's', 'u', 'r', 'f', 'e', 'i', 't', 's', ' ', 'o', 'n', ' ', 'w', 'o', 'u', 'l', 'd', ' ', 'r', 'e', 'l', 'i', 'e', 'v', 'e', ' ', 'u', 's', ':', ' ', 'i', 'f', ' ', 't', 'h', 'e', 'y', '\\n', 'w', 'o', 'u', 'l', 'd', ' ', 'y', 'i', 'e', 'l', 'd', ' ', 'u', 's', ' ', 'b', 'u', 't', ' ', 't', 'h', 'e', ' ', 's', 'u', 'p', 'e', 'r', 'f', 'l', 'u', 'i', 't', 'y', ',', ' ', 'w', 'h', 'i', 'l', 'e', ' ', 'i', 't', ' ', 'w', 'e', 'r', 'e', '\\n', 'w', 'h', 'o', 'l', 'e', 's', 'o', 'm', 'e', ',', ' ', 'w', 'e', ' ', 'm', 'i', 'g', 'h', 't', ' ', 'g', 'u', 'e', 's', 's', ' ', 't', 'h', 'e', 'y', ' ', 'r', 'e', 'l', 'i', 'e', 'v', 'e', 'd', ' ', 'u', 's', ' ', 'h', 'u', 'm', 'a', 'n', 'e', 'l', 'y', ';', '\\n', 'b', 'u', 't', ' ', 't', 'h', 'e', 'y', ' ', 't', 'h', 'i', 'n', 'k', ' ', 'w', 'e', ' ', 'a', 'r', 'e', ' ', 't', 'o', 'o', ' ', 'd', 'e', 'a', 'r', ':', ' ', 't', 'h', 'e', ' ', 'l', 'e', 'a', 'n', 'n', 'e', 's', 's', ' ', 't', 'h', 'a', 't', '\\n', 'a', 'f', 'f', 'l', 'i', 'c', 't', 's', ' ', 'u', 's', ',', ' ', 't', 'h', 'e', ' ', 'o', 'b', 'j', 'e', 'c', 't', ' ', 'o', 'f', ' ', 'o', 'u', 'r', ' ', 'm', 'i', 's', 'e', 'r', 'y', ',', ' ', 'i', 's', ' ', 'a', 's', ' ', 'a', 'n', '\\n', 'i', 'n', 'v', 'e', 'n', 't', 'o', 'r', 'y', ' ', 't', 'o', ' ', 'p', 'a', 'r', 't', 'i', 'c', 'u', 'l', 'a', 'r', 'i', 's', 'e', ' ', 't', 'h', 'e', 'i', 'r', ' ', 'a', 'b', 'u', 'n', 'd', 'a', 'n', 'c', 'e', ';', ' ', 'o', 'u', 'r', '\\n', 's', 'u', 'f', 'f', 'e', 'r', 'a', 'n', 'c', 'e', ' ', 'i', 's', ' ', 'a', ' ', 'g', 'a', 'i', 'n', ' ', 't', 'o', ' ', 't', 'h', 'e', 'm', ' ', 'L', 'e', 't', ' ', 'u', 's', ' ', 'r', 'e', 'v', 'e', 'n', 'g', 'e', ' ', 't', 'h', 'i', 's', ' ', 'w', 'i', 't', 'h', '\\n', 'o', 'u', 'r', ' ', 'p', 'i', 'k', 'e', 's', ',', ' ', 'e', 'r', 'e', ' ', 'w', 'e', ' ', 'b', 'e', 'c', 'o', 'm', 'e', ' ', 'r', 'a', 'k', 'e', 's', ':', ' ', 'f', 'o', 'r', ' ', 't', 'h', 'e', ' ', 'g', 'o', 'd', 's', ' ', 'k', 'n', 'o', 'w', ' ', 'I', '\\n', 's', 'p', 'e', 'a', 'k', ' ', 't', 'h', 'i', 's', ' ', 'i', 'n', ' ', 'h', 'u', 'n', 'g', 'e', 'r', ' ', 'f', 'o', 'r', ' ', 'b', 'r', 'e', 'a', 'd', ',', ' ', 'n', 'o', 't', ' ', 'i', 'n', ' ', 't', 'h', 'i', 'r', 's', 't', ' ', 'f', 'o', 'r', ' ', 'r', 'e', 'v', 'e', 'n', 'g', 'e', '.', '\\n', '\\n', 'S']\n"
     ]
    }
   ],
   "source": [
    "print(decode(encoded_text[500:1001]))"
   ]
  },
  {
   "cell_type": "code",
   "execution_count": 19,
   "id": "c878e13c-ec48-4202-9909-750349d79848",
   "metadata": {},
   "outputs": [],
   "source": [
    "n = int(0.9*len(data_torch))\n",
    "train_data = data_torch[:n] #first 90% of the data for training\n",
    "val_data = data_torch[n:] #last 10% of data for validation"
   ]
  },
  {
   "cell_type": "code",
   "execution_count": 23,
   "id": "5a51c1df",
   "metadata": {},
   "outputs": [
    {
     "name": "stdout",
     "output_type": "stream",
     "text": [
      "tensor([18, 47, 56, 57, 58,  1, 15, 47])\n"
     ]
    }
   ],
   "source": [
    "#CONVERTING TOKENS INTO CHUNKS FOR BATCH TRAINING\n",
    "block_size = 8\n",
    "print(train_data[:block_size+1]) #9 chars/tokens actually have 8 training examples. bcs we are training model to predict next token. 18,47 ; 18,47,56 ; 18,47,56,58; etc"
   ]
  },
  {
   "cell_type": "code",
   "execution_count": 27,
   "id": "6dc3b335-88d4-44c8-84f6-4f3909584b18",
   "metadata": {},
   "outputs": [
    {
     "name": "stdout",
     "output_type": "stream",
     "text": [
      "for training sample input tensor([18]) the output is 47\n",
      "for training sample input tensor([18, 47]) the output is 56\n",
      "for training sample input tensor([18, 47, 56]) the output is 57\n",
      "for training sample input tensor([18, 47, 56, 57]) the output is 58\n",
      "for training sample input tensor([18, 47, 56, 57, 58]) the output is 1\n",
      "for training sample input tensor([18, 47, 56, 57, 58,  1]) the output is 15\n",
      "for training sample input tensor([18, 47, 56, 57, 58,  1, 15]) the output is 47\n",
      "for training sample input tensor([18, 47, 56, 57, 58,  1, 15, 47]) the output is 58\n"
     ]
    }
   ],
   "source": [
    "inputx = train_data[:block_size]\n",
    "inputy = train_data[1:block_size+1]\n",
    "for n in range(block_size):\n",
    "    input_sample = inputx[:n+1]\n",
    "    output_sample = inputy[n]\n",
    "    print(f\"for training sample input {input_sample} the output is {output_sample}\")"
   ]
  },
  {
   "cell_type": "code",
   "execution_count": null,
   "id": "983792cd",
   "metadata": {},
   "outputs": [],
   "source": []
  }
 ],
 "metadata": {
  "kernelspec": {
   "display_name": "Python 3 (ipykernel)",
   "language": "python",
   "name": "python3"
  },
  "language_info": {
   "codemirror_mode": {
    "name": "ipython",
    "version": 3
   },
   "file_extension": ".py",
   "mimetype": "text/x-python",
   "name": "python",
   "nbconvert_exporter": "python",
   "pygments_lexer": "ipython3",
   "version": "3.9.6"
  }
 },
 "nbformat": 4,
 "nbformat_minor": 5
}
