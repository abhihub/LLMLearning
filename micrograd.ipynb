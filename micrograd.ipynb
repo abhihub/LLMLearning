{
 "cells": [
  {
   "cell_type": "code",
   "execution_count": 2,
   "id": "97fc9d8d",
   "metadata": {},
   "outputs": [
    {
     "name": "stdout",
     "output_type": "stream",
     "text": [
      "Basic LLM setup imports complete.\n"
     ]
    }
   ],
   "source": [
    "# Core LLM setup libraries\n",
    "import torch           # core deep learning tensor lib\n",
    "import numpy as np     # numerical ops\n",
    "import math\n",
    "import matplotlib.pyplot as plt  # visualization\n",
    "\n",
    "print(\"Basic LLM setup imports complete.\") "
   ]
  },
  {
   "cell_type": "code",
   "execution_count": 3,
   "id": "6be99b0c",
   "metadata": {},
   "outputs": [],
   "source": [
    "def f(x):\n",
    "    return 3*x**2 - 4*x +5 "
   ]
  },
  {
   "cell_type": "code",
   "execution_count": 4,
   "id": "bc55c638",
   "metadata": {},
   "outputs": [
    {
     "data": {
      "text/plain": [
       "20.0"
      ]
     },
     "execution_count": 4,
     "metadata": {},
     "output_type": "execute_result"
    }
   ],
   "source": [
    "f(3.0)"
   ]
  },
  {
   "cell_type": "code",
   "execution_count": null,
   "id": "009e6251",
   "metadata": {},
   "outputs": [],
   "source": []
  }
 ],
 "metadata": {
  "kernelspec": {
   "display_name": "Python 3 (ipykernel)",
   "language": "python",
   "name": "python3"
  }
 },
 "nbformat": 4,
 "nbformat_minor": 5
}
